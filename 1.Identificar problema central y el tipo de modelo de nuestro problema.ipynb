{
 "cells": [
  {
   "cell_type": "markdown",
   "metadata": {},
   "source": [
    "# Detectar el problema central:\n",
    "\n",
    "\n",
    "## Steve Jobs baso su modelo de negocio en la premisa: \"La gente no sabe lo que quiere, hasta que se lo das\".\n",
    "\n",
    "En análisis de datos, las personas generalmente no saben lo que quieren, por eso, es obligación del analista, ayudarlo a saber que quieren. \n",
    "\n",
    "### SIEMPRE CUIDE LAS EXPECTATIVAS DEL CLIENTE, OFREZCA POCO Y DÉ MUCHO. A veces por el afán de vender proyectos, ofrecen mucho, generando altas expectativas.\n"
   ]
  },
  {
   "cell_type": "markdown",
   "metadata": {},
   "source": [
    "El análisis de datos a nivel empresarial, tiene dos ejes principales:\n",
    "\n",
    "1. Vender, ayudar a la gerencia ha aumentar las ventas. Generalmente los analistas realizan análisis generales como tendencias de mercado, comportamiento de ventas, entre otros, eso genera datos interesantes e importantes, pero se le olvida que la gerencia desea saber cómo aumentar las ventas. \n",
    "\n",
    "2. En un segundo plano, el análisis de datos permite optimizar procesos que se pueden traducir en una redución de costos o una mejora en el margen de ganancias. Bajo una opinión personal, este eje no es tan valorado por los gerentes como el eje de generar ventas. \n",
    "\n",
    "Al final de cuentas el análisis de datos a nivel empresarial sirve únicamente para ganar dinero. Generalmente los gerentes dicen otras cosas tales como: generar valor a la organización, o buscar mejorar, pero al final todo cae a un único objetivo: GANAR DINERO!! se puede hablar de utopías que pueden debatir esto, pero a nivel empresarial, ese es el único objetivo de análisis de datos. \n",
    "\n",
    "## Cuando realiza un análisis de datos preguntese ¿Esto cómo va a ayudar para que la empresa gané dinero?\n",
    "\n",
    "Uno de los errores de los analistas de datos, es dar recomendación imposibles de implementar por la empresa. Hay que buscar un equilibrio entre lo ideal versus lo posible. \n",
    "\n"
   ]
  },
  {
   "cell_type": "markdown",
   "metadata": {},
   "source": [
    "# Como identificar el tipo de problema"
   ]
  },
  {
   "cell_type": "markdown",
   "metadata": {},
   "source": [
    "<p style='text-align: justify;'>Antes de empezar a usar los diferentes algoritmos para generar predicciones debemos tener una imagen clara de nuestro problema a solucionar, especialmente debemos tener un entendimiento de nuestros datos y que representan. Ciertos algoritmos funcionan mejor con ciertos tipos de datos.</p>\n",
    "\n",
    "<p style='text-align: justify;'>Por ejemplo, algunos algoritmos son sensibles a datos faltantes, y otros se desempeñan mejor con grandes cantidades de datos. Por ello <b><font color = green>es importante conocer nuestros datos</font></b> antes que nada.</p> \n",
    "\n",
    "Para conocer los datos se sugere:\n",
    "- Revisar la descripción de los datos, utilizando el método ___describe( )___.\n",
    "- Utilizar la __media y la mediana__ para determinar la tendencia central.\n",
    "- Tener especial atención a los __percentiles__ para poder identificar los rangos de los datos.\n",
    "- Usar una __matriz de correlación__ para identificar las relaciones fuertes en los datos.\n",
    "- Hacer __visualizaciones__ para mejorar tu entendimiento de los datos (Box plot, Density plot, Scatter plot). \n",
    "- __Limpiar tus datos__ (NA, outliers).\n",
    "\n",
    "<p style='text-align: justify;'>Una vez familiarizado con los datos, falta ubicar el tipo de problema que tenemos. La siguiente figura muestra un diagrama propuesta por la librería scikit-learn donde nos ofrece un método para la selección de algoritmos a utilizar dependiendo de las características de nuestro problema.</p>"
   ]
  },
  {
   "cell_type": "markdown",
   "metadata": {},
   "source": [
    "![A test image](img/ml_map.png)"
   ]
  },
  {
   "cell_type": "markdown",
   "metadata": {},
   "source": [
    "###### Fuente:\n",
    "https://scikit-learn.org/stable/tutorial/machine_learning_map/index.html"
   ]
  },
  {
   "cell_type": "markdown",
   "metadata": {},
   "source": [
    "<p style='text-align: justify;'>De la figura anterior también podemos extraer una sencilla clasificación de los tipos de problemas que vamos a abordar dependiendo lo que buscamos obtener como nuestra salida. Si queremos:</p>\n",
    "\n",
    "- __Predecir una clase__, tenemos un problema de <font color = red>__clasificación__</font>.\n",
    "- __Predecir un valor numérico__, tenemos un problema de <font color=blue>__regresión__</font>.\n",
    "- __Separar los datos__ en diferentes grupos, tenemos un problema de <font color=purple>__agrupamiento__</font>."
   ]
  },
  {
   "cell_type": "markdown",
   "metadata": {},
   "source": [
    "<p style='text-align: justify;'>Además, también podemos definir el tipo de aprendizaje a realizar definido por los datos de entrada.</p>\n",
    "\n",
    "- Si tenemos __datos etiquetados__, tenemos un problema de <font color = green>__aprendizaje supervisado__</font>.\n",
    "- Si tenemos __datos no etiquetados__ y queremos encontrar una estructura, tenemos un problema de <font color = green>__aprendizaje no supervisado__</font>.\n",
    "- Si queremos __aprender a partir de la interacción__ con un ambiente, tenemos <font color = green>__aprendizaje reforzado__</font>."
   ]
  },
  {
   "cell_type": "markdown",
   "metadata": {},
   "source": [
    "Referencias:\n",
    "- https://towardsdatascience.com/do-you-know-how-to-choose-the-right-machine-learning-algorithm-among-7-different-types-295d0b0c7f60\n",
    "- https://hackernoon.com/choosing-the-right-machine-learning-algorithm-68126944ce1f"
   ]
  },
  {
   "cell_type": "code",
   "execution_count": null,
   "metadata": {
    "collapsed": true
   },
   "outputs": [],
   "source": []
  }
 ],
 "metadata": {
  "kernelspec": {
   "display_name": "Python 3",
   "language": "python",
   "name": "python3"
  },
  "language_info": {
   "codemirror_mode": {
    "name": "ipython",
    "version": 3
   },
   "file_extension": ".py",
   "mimetype": "text/x-python",
   "name": "python",
   "nbconvert_exporter": "python",
   "pygments_lexer": "ipython3",
   "version": "3.8.1"
  }
 },
 "nbformat": 4,
 "nbformat_minor": 2
}
