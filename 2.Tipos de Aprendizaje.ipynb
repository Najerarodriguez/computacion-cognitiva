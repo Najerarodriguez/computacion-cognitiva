{
 "cells": [
  {
   "cell_type": "markdown",
   "metadata": {},
   "source": [
    "# Tipos de Aprendizaje\n",
    "\n",
    "<p style='text-align: justify;'>Dentro de la rama de la <b><font color = blue>Inteligencia artificial</font></b> se encuentra la subrama del <b><font color = green>Aprendizaje Automático</font></b>, la cual ha crecido en popularidad debido a la gran cantidad de problemas, provenientes de diferentes áreas del conocimiento, para las que se han desarrollado soluciones basadas en las técnicas que componen esta subrama de la inteligencia artificial. </p>\n",
    "\n",
    "<p style='text-align: justify;'>El aprendizaje automático es el conjunto de técnicas que se centran en desarrollar soluciones de software que pueden modificar su comportamiento en respuesta a la exposición de nuevos datos. En esta sección de nuestro curso nos centraremos en exponerte las ideas básicas detrás de tres de las principales técnicas que componen al aprendizaje automático. </p>\n",
    "\n",
    "----\n",
    "\n",
    "### 1) Aprendizaje supervisado\n",
    "<p style='text-align: justify;'>Los algoritmos de <b><font color = green>aprendizaje supervisado</font></b> son aquellos que trabajan primeramente aprendiendo con un conjunto de datos de entrenamiento <b>\"etiquetados\"</b>, los cuales recibe para posteriormente trabajar con ellos, intentando asignarles correctamente una etiqueta que coincida con la que previamente tenía. </p>\n",
    "<p style='text-align: justify;'>El comportamiento del algoritmo se corrige en medida a cuántas veces fallo al momento de etiquetar los datos de prueba y posteriormente modifica su comportamiento para las próximas ejecuciones. Después de terminar de entrenar con los datos etiquetados, se somete al algoritmo a trabajar con un conjunto de datos nuevos para los que no se conoce la etiqueta. </p>\n",
    "<center><img src=\"img/Ap_Sup.png\" width = \"100%\"></center>\n",
    "\n",
    "----\n",
    "\n",
    "### 2) Aprendizaje no supervisado\n",
    "<p style='text-align: justify;'>Los algoritmos de <b><font color = purple>aprendizaje no supervisado</font></b> no cuentan con un conjunto de datos <b>\"etiquetados\"</b> con los cuales puede entrenar y buscan intentar encontrar algún tipo de organización o patrón en los datos de entrada que recibe. Estos algoritmos suelen tener un comportamiento <b>\"exploratorio\"</b>, y en el caso de enfrentar un problema de agrupamiento, estos algoritmos intentan agrupar a los datos por medio de características similares pero no sin saber previamente que tipos de datos va a agrupar. </p>\n",
    "<center><img src=\"img/Ap_NoSup.png\" width = \"100%\"></center>\n",
    "\n",
    "----\n",
    "\n",
    "### 3) Aprendizaje reforzado\n",
    "<p style='text-align: justify;'>Las técnicas de <b><font color = orange>aprendizaje por refuerzo</font></b> se basan en modificar la respuesta del algoritmo utilizando un proceso de retroalimentación basado en un conjunto de recompensas y castigos que le permiten al algoritmo identificar cuando alguna de las acciones que realizo previamente obtuvo buenos resultados o fue un comportamiento que deberá evitar en futuras ejecuciones. Estas técnicas de aprendizaje intentan simular el proceso de aprendizaje humano, simulando la sensación de que el algoritmo aprende obteniendo información de cómo se modifica el mundo que lo rodea en respuesta de las acciones que produce. </p>\n",
    "<center><img src=\"img/Ap-Ref.png\" width = \"100%\"></center>"
   ]
  },
  {
   "cell_type": "markdown",
   "metadata": {
    "collapsed": true
   },
   "source": [
    "# Página web con ejemplos de modelos \n",
    "<center><img src=\"img/scikit.png\" width = \"90%\"></center>\n",
    "\n",
    "<b>Página Web</b> https://scikit-learn.org/stable/"
   ]
  },
  {
   "cell_type": "code",
   "execution_count": null,
   "metadata": {
    "collapsed": true
   },
   "outputs": [],
   "source": []
  }
 ],
 "metadata": {
  "kernelspec": {
   "display_name": "Python 3",
   "language": "python",
   "name": "python3"
  },
  "language_info": {
   "codemirror_mode": {
    "name": "ipython",
    "version": 3
   },
   "file_extension": ".py",
   "mimetype": "text/x-python",
   "name": "python",
   "nbconvert_exporter": "python",
   "pygments_lexer": "ipython3",
   "version": "3.8.1"
  }
 },
 "nbformat": 4,
 "nbformat_minor": 2
}
