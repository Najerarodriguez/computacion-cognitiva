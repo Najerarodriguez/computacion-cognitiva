{
 "cells": [
  {
   "cell_type": "markdown",
   "metadata": {},
   "source": [
    "# Machine Learning\n",
    "<p style='text-align: justify;'>El área de aprendizaje automático se destaca por su vital importancia dentro de la carrera de un científico de datos. El aprendizaje automático mejor conocido por su término en inglés <b><font color = green>Machine learning</font></b> busca desarrollar software capaz de reconocer patrones dentro de un conjunto de datos, para posteriormente realizar un aprendizaje y por último poder construir un modelo que represente a dicho conjunto. </p>\n",
    "\n",
    "<p style='text-align: justify;'>El aprendizaje automático puede resultar de ayuda a la hora de usar datos históricos para tomar mejores decisiones de negocio o decisiones fundamentadas en acontecimientos pasados por una persona o empresa. En la siguiente libreta te describiremos brevemente algunos de los algoritmos más populares del área de Machine Learning. Los detalles más especificos de estos algoritmos se revisarán en posteriores semanas. </p>\n",
    "\n",
    "----"
   ]
  },
  {
   "cell_type": "markdown",
   "metadata": {
    "collapsed": true
   },
   "source": [
    "## Regresión líneal\n",
    "<p style='text-align: justify;'>Método matemático que modela la relación entre una variable independiente \"<b>x</b>\" y una variable dependiente \"<b>y</b>\" por medio de una expresión líneal que busca asemejarse a en medida de lo posible a los datos reales.</p>\n",
    "<center><img src=\"img/RegLin.png\" width = \"50%\"></center>\n",
    "\n",
    "----"
   ]
  },
  {
   "cell_type": "markdown",
   "metadata": {},
   "source": [
    "## Regresión polinomial\n",
    "<p style='text-align: justify;'>La regresión polinomial es muy similar a la regresión líneal con la diferencia que el modelo matemático que se intenta construir es un \"<b>polinomio de grado-n</b>\". </p>\n",
    "<center><img src=\"img/RegPol.png\" width = \"50%\"></center>\n",
    "<p style='text-align: justify;'>Como se puede observar para la Regresión Polinomial se crean algunas características adicionales que no se encuentran en la Regresión Lineal. Un término polinomial, bien sea cuadrático o cúbico, convierte un modelo de regresión lineal en una curva. Esto hace que sea una forma agradable y directa de modelar curvas sin tener que modelar modelos complicados no lineales. </p>\n",
    "\n",
    "----"
   ]
  },
  {
   "cell_type": "markdown",
   "metadata": {},
   "source": [
    "## Árboles de clasificación y regresión (CART)\n",
    "<p style='text-align: justify;'>Los métodos basados en árboles, pretenden explicar o predecir una variable a partir de un conjunto de variables predictoras utilizando un conjunto de reglas sencillas. </p>\n",
    "<center><img src=\"img/ArbReg.png\" width = \"80%\"></center>\n",
    "<p style='text-align: justify;'>En nuestro ejemplo se construye nuestro árbol a partir de comparaciones sencillas de los valores de las variables \"<b>x</b>\" y las variables \"<b>y</b>\". </p>\n",
    "\n",
    "----"
   ]
  },
  {
   "cell_type": "markdown",
   "metadata": {},
   "source": [
    "## Redes neuronales\n",
    "<p style='text-align: justify;'>Las <b><font color = green>Redes Neuronales Artificiales</font></b> son modelos que están inspirados en la biología, esto significa que están formados por elementos que se comportan de manera análoga a las neuronas del cerebro humano. Consiste en un conjunto de neuronas artificiales, conectadas entre sí las cuales son capaces de transmitir señales entre ellas. La información que entra en la red atraviesa las diferentes capas de neuronas, donde se somete a las entradas a diferentes operaciones matemáticas que secuencialemente producen modificaciones a estas entradas hasta obtener diversos valores de salida. </p>\n",
    "<center><img src=\"img/RedNeu.png\" width = \"80%\"></center>\n",
    "Las características fundamentales que presentan las redes neuronales son:\n",
    "\n",
    "- Aprenden de la experiencia.\n",
    "- Generalizan a partir de ejemplos anteriores reglas que se aplican a ejemplos nuevos.\n",
    "- Abstraen la esencia de los datos de entrada.\n",
    "\n",
    "----"
   ]
  },
  {
   "cell_type": "markdown",
   "metadata": {},
   "source": [
    "## Máquinas de soporte vectorial\n",
    "<p style='text-align: justify;'>Las máquinas de soporte vectorial buscan encontrar un hiperplano que separe de forma óptima a los puntos que componen diferentes categorías unos de los otros. Este tipo de algoritmo suele utilizarse para predecir a que categoría pertencerá un nuevo punto del que no se tenía información con anterioridad.</p>\n",
    "<center><img src=\"img/SVM.png\" width = \"50%\"></center>\n",
    "\n",
    "----"
   ]
  },
  {
   "cell_type": "code",
   "execution_count": null,
   "metadata": {
    "collapsed": true
   },
   "outputs": [],
   "source": []
  }
 ],
 "metadata": {
  "kernelspec": {
   "display_name": "Python 3",
   "language": "python",
   "name": "python3"
  },
  "language_info": {
   "codemirror_mode": {
    "name": "ipython",
    "version": 3
   },
   "file_extension": ".py",
   "mimetype": "text/x-python",
   "name": "python",
   "nbconvert_exporter": "python",
   "pygments_lexer": "ipython3",
   "version": "3.8.1"
  }
 },
 "nbformat": 4,
 "nbformat_minor": 2
}
