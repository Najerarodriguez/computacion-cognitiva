{
 "cells": [
  {
   "cell_type": "markdown",
   "metadata": {},
   "source": [
    "** Implement Feed Forward**"
   ]
  },
  {
   "cell_type": "code",
   "execution_count": 3,
   "metadata": {},
   "outputs": [],
   "source": [
    "import random\n",
    "import numpy as np\n",
    "import matplotlib.pyplot as plt "
   ]
  },
  {
   "cell_type": "code",
   "execution_count": 4,
   "metadata": {},
   "outputs": [],
   "source": [
    "class Perceptron:\n",
    "    \n",
    "    def __init__(self, num_inputs):\n",
    "        self.weights = []\n",
    "        self.num_inputs = num_inputs\n",
    "        for _ in range(0, num_inputs):\n",
    "            self.weights.append(random.random() * 2 - 1)\n",
    "        print(self.weights)\n",
    "\n",
    "    def feed_forward(self, inputs):\n",
    "        self.inputs = inputs\n",
    "        \n",
    "        sum = 0\n",
    "        for i in range(0, self.num_inputs):\n",
    "            sum += self.weights[i] * inputs[i]\n",
    "\n",
    "        self.output = self.activate(sum)\n",
    "        return self.output\n",
    "\n",
    "    def activate(self, x):\n",
    "        if x > 0:\n",
    "            return 1\n",
    "        return 0"
   ]
  },
  {
   "cell_type": "code",
   "execution_count": null,
   "metadata": {},
   "outputs": [],
   "source": [
    "a = Perceptron(5)"
   ]
  },
  {
   "cell_type": "code",
   "execution_count": null,
   "metadata": {},
   "outputs": [],
   "source": [
    "a.feed_forward([1, 2, 3, 4, 5])"
   ]
  },
  {
   "cell_type": "markdown",
   "metadata": {},
   "source": [
    "** Define the Line**"
   ]
  },
  {
   "cell_type": "code",
   "execution_count": null,
   "metadata": {},
   "outputs": [],
   "source": [
    "def line(x):\n",
    "    return 0.5 * x"
   ]
  },
  {
   "cell_type": "code",
   "execution_count": null,
   "metadata": {},
   "outputs": [],
   "source": [
    "def graph(formula):  \n",
    "    x = np.array(range(0, 1000))\n",
    "    y = formula(x)\n",
    "    plt.plot(x, y)\n",
    "    plt.xlim(0, 1000), plt.ylim(0, 1000)\n",
    "    plt.show()"
   ]
  },
  {
   "cell_type": "code",
   "execution_count": null,
   "metadata": {},
   "outputs": [],
   "source": [
    "graph(line)"
   ]
  },
  {
   "cell_type": "markdown",
   "metadata": {},
   "source": [
    "**Test for Point with Line**"
   ]
  },
  {
   "cell_type": "code",
   "execution_count": null,
   "metadata": {},
   "outputs": [],
   "source": [
    "p = Perceptron(2)"
   ]
  },
  {
   "cell_type": "code",
   "execution_count": null,
   "metadata": {},
   "outputs": [],
   "source": [
    "x_coord = random.random() * 1000\n",
    "y_coord = random.random() * 1000\n",
    "line_y = line(x_coord)\n",
    "\n",
    "print(x_coord, y_coord)\n",
    "print(x_coord, line_y)\n",
    "\n",
    "if y_coord > line_y:\n",
    "    answer = 1\n",
    "else:\n",
    "    answer = 0\n",
    "    \n",
    "print(answer)"
   ]
  },
  {
   "cell_type": "code",
   "execution_count": null,
   "metadata": {},
   "outputs": [],
   "source": [
    "correct = 0\n",
    "\n",
    "for _ in range(0,1000):\n",
    "    x_coord = random.random() * 1000\n",
    "    y_coord = random.random() * 1000\n",
    "    line_y = line(x_coord)\n",
    "    \n",
    "    is_above = y_coord > line_y\n",
    "    guess_above = p.feed_forward([x_coord, y_coord])\n",
    "    \n",
    "    if (is_above == True and guess_above >= 0.5):\n",
    "        correct += 1\n",
    "    if (is_above == False and guess_above < 0.5):\n",
    "        correct += 1\n",
    "\n",
    "print(correct)"
   ]
  },
  {
   "cell_type": "markdown",
   "metadata": {},
   "source": [
    "**Implement Back Propagation**"
   ]
  },
  {
   "cell_type": "code",
   "execution_count": 13,
   "metadata": {},
   "outputs": [],
   "source": [
    "#Modified from above\n",
    "class Perceptron:\n",
    "    \n",
    "    def __init__(self, num_inputs):\n",
    "        self.weights = []\n",
    "        self.num_inputs = num_inputs\n",
    "        for _ in range(0, num_inputs):\n",
    "            self.weights.append(random.random() * 2 - 1)\n",
    "        print(self.weights)\n",
    "\n",
    "    def feed_forward(self, inputs):\n",
    "        self.inputs = inputs\n",
    "        \n",
    "        sum = 0\n",
    "        for i in range(0, self.num_inputs):\n",
    "            sum += self.weights[i] * inputs[i]\n",
    "\n",
    "        self.output = self.activate(sum)\n",
    "        return self.output\n",
    "\n",
    "    def activate(self, x):\n",
    "        if x > 0:\n",
    "            return 1\n",
    "        return 0\n",
    "    \n",
    "    def backward_pass(self, error):\n",
    "        learning_rate = 0.01 # hyperparameter\n",
    "        for i in range(0, self.num_inputs):\n",
    "            self.weights[i] -= error * self.inputs[i] * learning_rate\n",
    "    \n",
    "    def get_weights(self):\n",
    "        return self.weights"
   ]
  },
  {
   "cell_type": "code",
   "execution_count": null,
   "metadata": {},
   "outputs": [],
   "source": [
    "p = Perceptron(2)"
   ]
  },
  {
   "cell_type": "code",
   "execution_count": null,
   "metadata": {},
   "outputs": [],
   "source": [
    "print(p.get_weights())\n",
    "\n",
    "for _ in range(0, 10000):\n",
    "    x_coord = random.random() * 1000\n",
    "    y_coord = random.random() * 1000\n",
    "    line_y = line(x_coord)\n",
    "    \n",
    "    if y_coord > line_y:\n",
    "        answer = 1\n",
    "    else:\n",
    "        answer = 0\n",
    "    \n",
    "    guess = p.feed_forward([x_coord, y_coord])\n",
    "    p.backward_pass(guess - answer)\n",
    "    \n",
    "print(p.get_weights())"
   ]
  },
  {
   "cell_type": "markdown",
   "metadata": {},
   "source": [
    "**Graph Results**"
   ]
  },
  {
   "cell_type": "code",
   "execution_count": null,
   "metadata": {},
   "outputs": [],
   "source": [
    "# Modified from above\n",
    "def graph(formula, weights=[]):  \n",
    "    x = np.array(range(0, 1000))\n",
    "    y = formula(x)\n",
    "    plt.plot(x, y)\n",
    "    \n",
    "    if len(weights) == 2:\n",
    "        y2 = (-weights[0] / weights[1]) * x\n",
    "        plt.plot(x, y2)\n",
    "    \n",
    "    plt.xlim(0, 1000), plt.ylim(0, 1000)\n",
    "    plt.show()"
   ]
  },
  {
   "cell_type": "code",
   "execution_count": null,
   "metadata": {},
   "outputs": [],
   "source": [
    "graph(line, [-19.56805979028088, 5.751733481531401])"
   ]
  },
  {
   "cell_type": "markdown",
   "metadata": {},
   "source": [
    "**Line with Bias**"
   ]
  },
  {
   "cell_type": "code",
   "execution_count": 14,
   "metadata": {},
   "outputs": [],
   "source": [
    "def line(x):\n",
    "    return 0.5 * x + 500"
   ]
  },
  {
   "cell_type": "code",
   "execution_count": 15,
   "metadata": {},
   "outputs": [
    {
     "data": {
      "image/png": "[encoded data removed]",
      "text/plain": [
       "<matplotlib.figure.Figure at 0x1817101e940>"
      ]
     },
     "metadata": {},
     "output_type": "display_data"
    }
   ],
   "source": [
    "graph(line)"
   ]
  },
  {
   "cell_type": "markdown",
   "metadata": {},
   "source": [
    "Try optimizing this with the current 2-input Perceptron"
   ]
  },
  {
   "cell_type": "markdown",
   "metadata": {},
   "source": [
    "**Implement Bias**"
   ]
  },
  {
   "cell_type": "code",
   "execution_count": 164,
   "metadata": {},
   "outputs": [
    {
     "name": "stdout",
     "output_type": "stream",
     "text": [
      "[0.10627913462087979, 0.03666328157163057, -0.8696577734425568]\n"
     ]
    }
   ],
   "source": [
    "p = Perceptron(3)"
   ]
  },
  {
   "cell_type": "code",
   "execution_count": 165,
   "metadata": {},
   "outputs": [],
   "source": [
    "# Modified from above\n",
    "from IPython import display\n",
    "import pylab as pl\n",
    "\n",
    "def graph(formula, weights=[]):\n",
    "    plt.clf()\n",
    "    x = np.array(range(0, 1000))\n",
    "    y = formula(x)\n",
    "    plt.plot(x, y)\n",
    "    \n",
    "    if len(weights) == 2:\n",
    "        y2 = (-weights[0] / weights[1]) * x\n",
    "        plt.plot(x, y2)\n",
    "        \n",
    "    if len(weights) == 3:\n",
    "        y2 = (-weights[0] / weights[1]) * x - (weights[2] / weights[1])\n",
    "        plt.plot(x, y2)\n",
    "    \n",
    "    plt.xlim(0, 1000), plt.ylim(0, 1000)\n",
    "    display.display(pl.gcf())\n",
    "    display.clear_output(wait=True)"
   ]
  },
  {
   "cell_type": "code",
   "execution_count": 166,
   "metadata": {},
   "outputs": [
    {
     "data": {
      "image/png": "[encoded data removed]",
      "text/plain": [
       "<matplotlib.figure.Figure at 0x18172b9a400>"
      ]
     },
     "metadata": {},
     "output_type": "display_data"
    }
   ],
   "source": [
    "graph(line, p.get_weights())"
   ]
  },
  {
   "cell_type": "code",
   "execution_count": 170,
   "metadata": {},
   "outputs": [
    {
     "name": "stdout",
     "output_type": "stream",
     "text": [
      "990\n"
     ]
    }
   ],
   "source": [
    "#Modified from above\n",
    "correct = 0\n",
    "\n",
    "for _ in range(0,1000):\n",
    "    x_coord = random.random() * 1000\n",
    "    y_coord = random.random() * 1000\n",
    "    line_y = line(x_coord)\n",
    "    \n",
    "    is_above = y_coord > line_y\n",
    "    guess_above = p.feed_forward([x_coord, y_coord, 1])\n",
    "    \n",
    "    if (is_above == True and guess_above >= 0.5):\n",
    "        correct += 1\n",
    "    if (is_above == False and guess_above < 0.5):\n",
    "        correct += 1\n",
    "\n",
    "print(correct)"
   ]
  },
  {
   "cell_type": "code",
   "execution_count": 169,
   "metadata": {},
   "outputs": [
    {
     "name": "stdout",
     "output_type": "stream",
     "text": [
      "[-19.815261771600923, 36.175675609834016, -17177.00965795771]\n"
     ]
    },
    {
     "data": {
      "image/png": "[encoded data removed]",
      "text/plain": [
       "<matplotlib.figure.Figure at 0x181727b09e8>"
      ]
     },
     "metadata": {},
     "output_type": "display_data"
    }
   ],
   "source": [
    "#Modified from above\n",
    "print(p.get_weights())\n",
    "\n",
    "for i in range(0, 100000000):\n",
    "    x_coord = random.random() * 1000\n",
    "    y_coord = random.random() * 1000\n",
    "    line_y = line(x_coord)\n",
    "    \n",
    "    if y_coord > line_y:\n",
    "        answer = 1\n",
    "    else:\n",
    "        answer = 0\n",
    "    \n",
    "    guess = p.feed_forward([x_coord, y_coord, 1])\n",
    "    p.backward_pass(guess - answer)\n",
    "        \n",
    "    if i % 100000 == 0:\n",
    "        graph(line, p.get_weights())\n",
    "    \n",
    "print(p.get_weights())"
   ]
  },
  {
   "cell_type": "markdown",
   "metadata": {},
   "source": [
    "**Input Normalization**"
   ]
  },
  {
   "cell_type": "code",
   "execution_count": 233,
   "metadata": {},
   "outputs": [
    {
     "name": "stdout",
     "output_type": "stream",
     "text": [
      "[0.9030310356758318, -0.7215011889549581, 0.04429049265388407]\n"
     ]
    }
   ],
   "source": [
    "p = Perceptron(3)"
   ]
  },
  {
   "cell_type": "code",
   "execution_count": 234,
   "metadata": {},
   "outputs": [
    {
     "data": {
      "image/png": "[encoded data removed]",
      "text/plain": [
       "<matplotlib.figure.Figure at 0x18170ff7f98>"
      ]
     },
     "metadata": {},
     "output_type": "display_data"
    }
   ],
   "source": [
    "graph(line, p.get_weights())"
   ]
  },
  {
   "cell_type": "code",
   "execution_count": 237,
   "metadata": {},
   "outputs": [
    {
     "name": "stdout",
     "output_type": "stream",
     "text": [
      "997\n"
     ]
    }
   ],
   "source": [
    "#Modified from above\n",
    "correct = 0\n",
    "\n",
    "for _ in range(0,1000):\n",
    "    x_coord = random.random() * 1000\n",
    "    y_coord = random.random() * 1000\n",
    "    line_y = line(x_coord)\n",
    "    \n",
    "    x_coord_norm = x_coord / 1000\n",
    "    y_coord_norm = y_coord / 1000\n",
    "    \n",
    "    is_above = y_coord > line_y\n",
    "    guess_above = p.feed_forward([x_coord_norm, y_coord_norm, 1])\n",
    "    \n",
    "    if (is_above == True and guess_above >= 0.5):\n",
    "        correct += 1\n",
    "    if (is_above == False and guess_above < 0.5):\n",
    "        correct += 1\n",
    "\n",
    "print(correct)"
   ]
  },
  {
   "cell_type": "code",
   "execution_count": 236,
   "metadata": {},
   "outputs": [
    {
     "name": "stdout",
     "output_type": "stream",
     "text": [
      "[-0.07705697890516727, 0.15291340468688674, -0.07570950734611594]\n"
     ]
    },
    {
     "data": {
      "image/png": "[encoded data removed]",
      "text/plain": [
       "<matplotlib.figure.Figure at 0x181734cfc88>"
      ]
     },
     "metadata": {},
     "output_type": "display_data"
    }
   ],
   "source": [
    "#Modified from above\n",
    "print(p.get_weights())\n",
    "\n",
    "for i in range(0, 10000):\n",
    "    x_coord = random.random() * 1000\n",
    "    y_coord = random.random() * 1000\n",
    "    line_y = line(x_coord)\n",
    "    \n",
    "    x_coord_norm = x_coord / 1000\n",
    "    y_coord_norm = y_coord / 1000\n",
    "    \n",
    "    if y_coord > line_y:\n",
    "        answer = 1\n",
    "    else:\n",
    "        answer = 0\n",
    "    \n",
    "    guess = p.feed_forward([x_coord_norm, y_coord_norm, 1])\n",
    "    p.backward_pass(guess - answer)\n",
    "    \n",
    "    if i % 100 == 0:\n",
    "        w = p.get_weights().copy()\n",
    "        w[-1] = w[-1] * 1000\n",
    "        graph(line, w)\n",
    "    \n",
    "print(p.get_weights())"
   ]
  },
  {
   "cell_type": "markdown",
   "metadata": {},
   "source": [
    "**Logical AND and OR**"
   ]
  },
  {
   "cell_type": "code",
   "execution_count": 277,
   "metadata": {},
   "outputs": [
    {
     "name": "stdout",
     "output_type": "stream",
     "text": [
      "[0.29543212526446827, 0.8275084905441301, -0.4436670042916313]\n"
     ]
    }
   ],
   "source": [
    "a = Perceptron(3)"
   ]
  },
  {
   "cell_type": "code",
   "execution_count": 280,
   "metadata": {},
   "outputs": [
    {
     "name": "stdout",
     "output_type": "stream",
     "text": [
      "Logical AND\n",
      "1\n",
      "0\n",
      "0\n",
      "0\n"
     ]
    }
   ],
   "source": [
    "print(\"Logical AND\")\n",
    "print(a.feed_forward([1, 1, 1]))\n",
    "print(a.feed_forward([1, 0, 1]))\n",
    "print(a.feed_forward([0, 1, 1]))\n",
    "print(a.feed_forward([0, 0, 1]))"
   ]
  },
  {
   "cell_type": "code",
   "execution_count": 279,
   "metadata": {},
   "outputs": [
    {
     "name": "stdout",
     "output_type": "stream",
     "text": [
      "[0.29543212526446827, 0.6275084905441299, -0.6436670042916315]\n"
     ]
    }
   ],
   "source": [
    "for _ in range(0,1000):\n",
    "    first = random.choice([0, 1])\n",
    "    second = random.choice([0, 1])\n",
    "    a_out = a.feed_forward([first, second, 1])\n",
    "    \n",
    "    if (first and second):\n",
    "        answer = 1\n",
    "    else:\n",
    "        answer = 0\n",
    "    a.backward_pass(a_out - answer)\n",
    "    \n",
    "print(a.get_weights())"
   ]
  },
  {
   "cell_type": "code",
   "execution_count": 269,
   "metadata": {},
   "outputs": [],
   "source": [
    "# Modified from above\n",
    "from IPython import display\n",
    "import pylab as pl\n",
    "\n",
    "def graph(formula, weights=[], size=1000):\n",
    "    plt.clf()\n",
    "    x = np.array(range(0, size))\n",
    "    if size == 1:\n",
    "        x = np.arange(0, size, .01)\n",
    "    y = formula(x)\n",
    "    plt.plot(x, y)\n",
    "    \n",
    "    if len(weights) == 2:\n",
    "        y2 = (-weights[0] / weights[1]) * x\n",
    "        plt.plot(x, y2)\n",
    "        \n",
    "    if len(weights) == 3:\n",
    "        y2 = (-weights[0] / weights[1]) * x - (weights[2] / weights[1])\n",
    "        plt.plot(x, y2)\n",
    "    \n",
    "    plt.xlim(0, size), plt.ylim(0, size)\n",
    "    display.display(pl.gcf())\n",
    "    display.clear_output(wait=True)"
   ]
  },
  {
   "cell_type": "code",
   "execution_count": 281,
   "metadata": {},
   "outputs": [
    {
     "data": {
      "image/png": "[encoded data removed]",
      "text/plain": [
       "<matplotlib.figure.Figure at 0x18172942c88>"
      ]
     },
     "metadata": {},
     "output_type": "display_data"
    }
   ],
   "source": [
    "graph(line, a.get_weights(), size=1)"
   ]
  },
  {
   "cell_type": "code",
   "execution_count": 295,
   "metadata": {},
   "outputs": [
    {
     "name": "stdout",
     "output_type": "stream",
     "text": [
      "[-0.18923118637178127, 0.9056137514888873, 0.22100557748683358]\n"
     ]
    }
   ],
   "source": [
    "b = Perceptron(3)"
   ]
  },
  {
   "cell_type": "code",
   "execution_count": 296,
   "metadata": {},
   "outputs": [
    {
     "name": "stdout",
     "output_type": "stream",
     "text": [
      "Logical OR\n",
      "1\n",
      "1\n",
      "1\n",
      "1\n"
     ]
    }
   ],
   "source": [
    "print(\"Logical OR\")\n",
    "print(b.feed_forward([1, 1, 1]))\n",
    "print(b.feed_forward([1, 0, 1]))\n",
    "print(b.feed_forward([0, 1, 1]))\n",
    "print(b.feed_forward([0, 0, 1]))"
   ]
  },
  {
   "cell_type": "code",
   "execution_count": 297,
   "metadata": {},
   "outputs": [
    {
     "name": "stdout",
     "output_type": "stream",
     "text": [
      "[0.010768813628218766, 0.9056137514888873, -0.008994422513166478]\n"
     ]
    }
   ],
   "source": [
    "for _ in range(0,1000):\n",
    "    first = random.choice([0, 1])\n",
    "    second = random.choice([0, 1])\n",
    "    b_out = b.feed_forward([first, second, 1])\n",
    "    \n",
    "    if (first or second):\n",
    "        answer = 1\n",
    "    else:\n",
    "        answer = 0\n",
    "    b.backward_pass(b_out - answer)\n",
    "    \n",
    "print(b.get_weights())"
   ]
  },
  {
   "cell_type": "code",
   "execution_count": 298,
   "metadata": {},
   "outputs": [
    {
     "data": {
      "image/png": "[encoded data removed]",
      "text/plain": [
       "<matplotlib.figure.Figure at 0x1817287a438>"
      ]
     },
     "metadata": {},
     "output_type": "display_data"
    }
   ],
   "source": [
    "graph(line, b.get_weights(), size=1)"
   ]
  },
  {
   "cell_type": "markdown",
   "metadata": {},
   "source": [
    "**XOR with 2 Perceptrons**"
   ]
  },
  {
   "cell_type": "code",
   "execution_count": 404,
   "metadata": {},
   "outputs": [
    {
     "name": "stdout",
     "output_type": "stream",
     "text": [
      "[0.3396846050617881, 0.24252979675626563, -0.005778131976126311]\n",
      "[-0.05957581809648693, -0.18670489951449754, -0.5669880081788032, -0.020868857746876524]\n"
     ]
    }
   ],
   "source": [
    "a = Perceptron(3)\n",
    "b = Perceptron(4)"
   ]
  },
  {
   "cell_type": "code",
   "execution_count": 405,
   "metadata": {},
   "outputs": [],
   "source": [
    "def network(first, second):\n",
    "    a_out = a.feed_forward([first, second, 1])\n",
    "    b_out = b.feed_forward([first, a_out, second, 1])\n",
    "    return b_out"
   ]
  },
  {
   "cell_type": "code",
   "execution_count": 408,
   "metadata": {},
   "outputs": [
    {
     "name": "stdout",
     "output_type": "stream",
     "text": [
      "0\n",
      "1\n",
      "1\n",
      "0\n"
     ]
    }
   ],
   "source": [
    "print(network(1, 1))\n",
    "print(network(1, 0))\n",
    "print(network(0, 1))\n",
    "print(network(0, 0))"
   ]
  },
  {
   "cell_type": "code",
   "execution_count": 343,
   "metadata": {},
   "outputs": [],
   "source": [
    "#Modified from above\n",
    "class Perceptron:\n",
    "    \n",
    "    def __init__(self, num_inputs):\n",
    "        self.weights = []\n",
    "        self.num_inputs = num_inputs\n",
    "        for _ in range(0, num_inputs):\n",
    "            self.weights.append(random.random() * 2 - 1)\n",
    "        print(self.weights)\n",
    "\n",
    "    def feed_forward(self, inputs):\n",
    "        self.inputs = inputs\n",
    "        \n",
    "        sum = 0\n",
    "        for i in range(0, self.num_inputs):\n",
    "            sum += self.weights[i] * inputs[i]\n",
    "\n",
    "        self.output = self.activate(sum)\n",
    "        return self.output\n",
    "\n",
    "    def activate(self, x):\n",
    "        if x > 0:\n",
    "            return 1\n",
    "        return 0\n",
    "    \n",
    "    def backward_pass(self, error):\n",
    "        learning_rate = 0.01 # hyperparameter\n",
    "        back_error = []\n",
    "        for i in range(0, self.num_inputs):\n",
    "            back_error.append(error * self.weights[i])\n",
    "            self.weights[i] -= error * self.inputs[i] * learning_rate\n",
    "        return back_error\n",
    "    \n",
    "    def get_weights(self):\n",
    "        return self.weights"
   ]
  },
  {
   "cell_type": "code",
   "execution_count": 407,
   "metadata": {},
   "outputs": [
    {
     "name": "stdout",
     "output_type": "stream",
     "text": [
      "[0.3263164090812082, 0.25628308192619154, -0.019912229966416256]\n",
      "[-0.019575818096486924, 0.23329510048550256, -0.21698800817880293, -0.0008688577468765231]\n"
     ]
    }
   ],
   "source": [
    "for _ in range(0,1000):\n",
    "    first = random.choice([0, 1])\n",
    "    second = random.choice([0, 1])\n",
    "    \n",
    "    a_out = a.feed_forward([first, second, 1])\n",
    "    b_out = b.feed_forward([first, a_out, second, 1])\n",
    "    \n",
    "    if (first != second):\n",
    "        answer = 1\n",
    "    else:\n",
    "        answer = 0\n",
    "        \n",
    "    back_error = b.backward_pass(b_out - answer)\n",
    "    a.backward_pass(back_error[1])\n",
    "    \n",
    "print(a.get_weights())\n",
    "print(b.get_weights())"
   ]
  },
  {
   "cell_type": "markdown",
   "metadata": {},
   "source": [
    "**XOR with 3 Perceptrons**"
   ]
  },
  {
   "cell_type": "code",
   "execution_count": 360,
   "metadata": {},
   "outputs": [
    {
     "name": "stdout",
     "output_type": "stream",
     "text": [
      "[-0.9060909691995083, -0.8396727866613862, 0.8670974138325274]\n",
      "[-0.7903703175883345, -0.25264914886399636, 0.2055522551052451]\n",
      "[-0.9547053142489783, 0.33788439995699093, -0.03749374516832882]\n"
     ]
    }
   ],
   "source": [
    "a = Perceptron(3)\n",
    "b = Perceptron(3)\n",
    "c = Perceptron(3)"
   ]
  },
  {
   "cell_type": "code",
   "execution_count": 361,
   "metadata": {},
   "outputs": [],
   "source": [
    "def network(first, second):\n",
    "    a_out = a.feed_forward([first, second, 1])\n",
    "    b_out = b.feed_forward([first, second, 1])\n",
    "    c_out = c.feed_forward([a_out, b_out, 1])\n",
    "    return c_out"
   ]
  },
  {
   "cell_type": "code",
   "execution_count": 364,
   "metadata": {},
   "outputs": [
    {
     "name": "stdout",
     "output_type": "stream",
     "text": [
      "0\n",
      "1\n",
      "1\n",
      "0\n"
     ]
    }
   ],
   "source": [
    "print(network(1, 1))\n",
    "print(network(1, 0))\n",
    "print(network(0, 1))\n",
    "print(network(0, 0))"
   ]
  },
  {
   "cell_type": "code",
   "execution_count": 363,
   "metadata": {},
   "outputs": [
    {
     "name": "stdout",
     "output_type": "stream",
     "text": [
      "[-0.7339970560698764, -0.7409082455291834, 0.7642562544050576]\n",
      "[-0.865208701572851, -0.29713562485152334, 0.25268878710395487]\n",
      "[0.015294685751022392, -0.022115600043009234, -0.007493745168328807]\n"
     ]
    }
   ],
   "source": [
    "for _ in range(0,1000000):\n",
    "    first = random.choice([0, 1])\n",
    "    second = random.choice([0, 1])\n",
    "    c_out = network(first, second)\n",
    "    \n",
    "    if (first != second):\n",
    "        answer = 1\n",
    "    else:\n",
    "        answer = 0\n",
    "        \n",
    "    back_error = c.backward_pass(c_out - answer)\n",
    "    a.backward_pass(back_error[0])\n",
    "    b.backward_pass(back_error[1])\n",
    "    \n",
    "print(a.get_weights())\n",
    "print(b.get_weights())\n",
    "print(c.get_weights())"
   ]
  },
  {
   "cell_type": "code",
   "execution_count": 365,
   "metadata": {},
   "outputs": [
    {
     "data": {
      "image/png": "[encoded data removed]",
      "text/plain": [
       "<matplotlib.figure.Figure at 0x18173794908>"
      ]
     },
     "metadata": {},
     "output_type": "display_data"
    }
   ],
   "source": [
    "graph(line, a.get_weights(), size=1)"
   ]
  },
  {
   "cell_type": "code",
   "execution_count": 366,
   "metadata": {},
   "outputs": [
    {
     "data": {
      "image/png": "[encoded data removed]",
      "text/plain": [
       "<matplotlib.figure.Figure at 0x1817379b978>"
      ]
     },
     "metadata": {},
     "output_type": "display_data"
    }
   ],
   "source": [
    "graph(line, b.get_weights(), size=1)"
   ]
  },
  {
   "cell_type": "code",
   "execution_count": 367,
   "metadata": {},
   "outputs": [
    {
     "data": {
      "image/png": "[encoded data removed]",
      "text/plain": [
       "<matplotlib.figure.Figure at 0x18172fe66d8>"
      ]
     },
     "metadata": {},
     "output_type": "display_data"
    }
   ],
   "source": [
    "graph(line, c.get_weights(), size=1)"
   ]
  },
  {
   "cell_type": "markdown",
   "metadata": {},
   "source": [
    "**Parabola - Non-linear activation**"
   ]
  },
  {
   "cell_type": "code",
   "execution_count": 368,
   "metadata": {},
   "outputs": [],
   "source": [
    "def parabola(x):\n",
    "    return 0.005 * pow(x - 500, 2) + 250"
   ]
  },
  {
   "cell_type": "code",
   "execution_count": 369,
   "metadata": {},
   "outputs": [
    {
     "data": {
      "image/png": "[encoded data removed]",
      "text/plain": [
       "<matplotlib.figure.Figure at 0x181733ba748>"
      ]
     },
     "metadata": {},
     "output_type": "display_data"
    }
   ],
   "source": [
    "graph(parabola)"
   ]
  },
  {
   "cell_type": "code",
   "execution_count": 383,
   "metadata": {},
   "outputs": [
    {
     "name": "stdout",
     "output_type": "stream",
     "text": [
      "[-0.9018061885208539, -0.6070839229460125, 0.5944619820191239]\n",
      "[0.18850649643752848, 0.025242870901806214, -0.9932353325299224]\n",
      "[0.5503966407290812, -0.2683264781866046, -0.2399859729541285]\n"
     ]
    }
   ],
   "source": [
    "a = Perceptron(3, act='sigmoid')\n",
    "b = Perceptron(3, act='sigmoid')\n",
    "c = Perceptron(3, act='sigmoid')\n",
    "\n",
    "def network(first, second):\n",
    "    a_out = a.feed_forward([first, second, 1])\n",
    "    b_out = b.feed_forward([first, second, 1])\n",
    "    c_out = c.feed_forward([a_out, b_out, 1])\n",
    "    return c_out"
   ]
  },
  {
   "cell_type": "code",
   "execution_count": 386,
   "metadata": {},
   "outputs": [
    {
     "name": "stdout",
     "output_type": "stream",
     "text": [
      "976\n"
     ]
    }
   ],
   "source": [
    "correct = 0\n",
    "\n",
    "for _ in range(0,1000):\n",
    "    x_coord = random.random() * 1000\n",
    "    y_coord = random.random() * 1000\n",
    "    curve_y = parabola(x_coord)\n",
    "    x_norm = x_coord / 1000\n",
    "    y_norm = y_coord / 1000\n",
    "    \n",
    "    is_above = y_coord > curve_y\n",
    "    guess_above = network(x_norm, y_norm)\n",
    "    \n",
    "    if (is_above == True and guess_above >= 0.5):\n",
    "        correct += 1\n",
    "    if (is_above == False and guess_above < 0.5):\n",
    "        correct += 1\n",
    "\n",
    "print(correct)"
   ]
  },
  {
   "cell_type": "code",
   "execution_count": 390,
   "metadata": {},
   "outputs": [
    {
     "name": "stdout",
     "output_type": "stream",
     "text": [
      "[-12.474348443313602, -5.084275184049197, 6.451473619935524]\n",
      "[12.388689646694768, -5.126039559910979, -5.875989630522441]\n",
      "[-14.387589128529227, -14.118700360720467, 8.175707532748401]\n"
     ]
    }
   ],
   "source": [
    "for _ in range(0,1000000):\n",
    "    x_coord = random.random() * 1000\n",
    "    y_coord = random.random() * 1000\n",
    "    curve_y = parabola(x_coord)\n",
    "    x_norm = x_coord / 1000\n",
    "    y_norm = y_coord / 1000\n",
    "\n",
    "    c_out = network(x_norm, y_norm)\n",
    "    \n",
    "    if y_coord > curve_y:\n",
    "        answer = 1\n",
    "    else:\n",
    "        answer = 0\n",
    "\n",
    "    back_error = c.backward_pass(c_out - answer)\n",
    "    a.backward_pass(back_error[0])\n",
    "    b.backward_pass(back_error[1])\n",
    "    \n",
    "print(a.get_weights())\n",
    "print(b.get_weights())\n",
    "print(c.get_weights())"
   ]
  },
  {
   "cell_type": "code",
   "execution_count": 395,
   "metadata": {},
   "outputs": [
    {
     "data": {
      "image/png": "[encoded data removed]",
      "text/plain": [
       "<matplotlib.figure.Figure at 0x1817308e4a8>"
      ]
     },
     "metadata": {},
     "output_type": "display_data"
    }
   ],
   "source": [
    "w = a.get_weights().copy()\n",
    "w[-1] = w[-1] * 1000\n",
    "graph(parabola, w)"
   ]
  },
  {
   "cell_type": "code",
   "execution_count": 396,
   "metadata": {},
   "outputs": [
    {
     "data": {
      "image/png": "[encoded data removed]",
      "text/plain": [
       "<matplotlib.figure.Figure at 0x1817279c668>"
      ]
     },
     "metadata": {},
     "output_type": "display_data"
    }
   ],
   "source": [
    "w = b.get_weights().copy()\n",
    "w[-1] = w[-1] * 1000\n",
    "graph(parabola,w)"
   ]
  },
  {
   "cell_type": "code",
   "execution_count": 397,
   "metadata": {},
   "outputs": [
    {
     "data": {
      "image/png": "[encoded data removed]",
      "text/plain": [
       "<matplotlib.figure.Figure at 0x1817367dd30>"
      ]
     },
     "metadata": {},
     "output_type": "display_data"
    }
   ],
   "source": [
    "w = c.get_weights().copy()\n",
    "w[-1] = w[-1] * 1000\n",
    "graph(parabola,w)"
   ]
  },
  {
   "cell_type": "code",
   "execution_count": 398,
   "metadata": {},
   "outputs": [
    {
     "name": "stdout",
     "output_type": "stream",
     "text": [
      "0.000000\n",
      "0.002001\n",
      "0.002617\n",
      "0.999719\n"
     ]
    }
   ],
   "source": [
    "print('%f' % c.feed_forward([1, 1, 1]))\n",
    "print('%f' % c.feed_forward([1, 0, 1]))\n",
    "print('%f' % c.feed_forward([0, 1, 1]))\n",
    "print('%f' % c.feed_forward([0, 0, 1]))"
   ]
  },
  {
   "cell_type": "code",
   "execution_count": 382,
   "metadata": {},
   "outputs": [],
   "source": [
    "class Perceptron:\n",
    "    \n",
    "    def __init__(self, num_inputs, act='step'):\n",
    "        self.weights = []\n",
    "        self.num_inputs = num_inputs\n",
    "        self.act = act # define activation function\n",
    "        for _ in range(0, num_inputs):\n",
    "            self.weights.append(random.random() * 2 - 1)\n",
    "        print(self.weights)\n",
    "            \n",
    "    def get_weights(self):\n",
    "        return self.weights\n",
    "        \n",
    "    def feed_forward(self, inputs):\n",
    "        self.inputs = inputs\n",
    "        sum = 0\n",
    "                # multiply inputs by weights and sum them\n",
    "        for i in range(0, self.num_inputs):\n",
    "            sum += self.weights[i] * inputs[i]\n",
    "            \n",
    "        # 'activate' the sum and get the derivative\n",
    "        self.output, self.output_prime = self.activate(sum)\n",
    "        return self.output\n",
    "    \n",
    "    def activate(self, x):\n",
    "        if (self.act == 'sigmoid'):\n",
    "            activation = self.sigmoid(x)\n",
    "            activation_prime = activation * (1 - activation)\n",
    "        else:\n",
    "            activation = self.step(x)\n",
    "            activation_prime = 1 # use 1 since step activation is not differentiable\n",
    "        return activation, activation_prime\n",
    "    \n",
    "    def sigmoid(self, x):\n",
    "        return 1/(1 + np.exp(-x))\n",
    "    \n",
    "    def step(self, x):\n",
    "        if x > 0:\n",
    "            return 1\n",
    "        return 0\n",
    "    \n",
    "    def backward_pass(self, error):\n",
    "        learning_rate = 0.01 # hyperparameter\n",
    "        back_error = [] # each element in list represent amount of error to send backward along that connection\n",
    "        for i in range(0, self.num_inputs):\n",
    "            back_error.append(error * self.output_prime * self.weights[i])\n",
    "            self.weights[i] -= error * self.output_prime * self.inputs[i] * learning_rate\n",
    "        return back_error"
   ]
  },
  {
   "cell_type": "code",
   "execution_count": null,
   "metadata": {},
   "outputs": [],
   "source": []
  }
 ],
 "metadata": {
  "kernelspec": {
   "display_name": "Python 3",
   "language": "python",
   "name": "python3"
  },
  "language_info": {
   "codemirror_mode": {
    "name": "ipython",
    "version": 3
   },
   "file_extension": ".py",
   "mimetype": "text/x-python",
   "name": "python",
   "nbconvert_exporter": "python",
   "pygments_lexer": "ipython3",
   "version": "3.8.1"
  }
 },
 "nbformat": 4,
 "nbformat_minor": 2
}
